{
 "cells": [
  {
   "cell_type": "code",
   "execution_count": 1,
   "id": "ff5e4edc",
   "metadata": {
    "ExecuteTime": {
     "end_time": "2024-08-21T23:09:52.096361Z",
     "start_time": "2024-08-21T23:09:50.469569Z"
    }
   },
   "outputs": [],
   "source": [
    "import numpy as np\n",
    "import pandas as pd\n",
    "import matplotlib.pyplot as plt\n",
    "import seaborn as sns\n",
    "from bs4 import BeautifulSoup\n",
    "import requests \n",
    "from tqdm import tqdm"
   ]
  },
  {
   "cell_type": "markdown",
   "id": "8d5d1a83",
   "metadata": {
    "ExecuteTime": {
     "end_time": "2024-08-21T20:46:44.119995Z",
     "start_time": "2024-08-21T20:46:44.102669Z"
    }
   },
   "source": [
    "# Web scrape medals by Athletes"
   ]
  },
  {
   "cell_type": "code",
   "execution_count": 22,
   "id": "f708396b",
   "metadata": {
    "ExecuteTime": {
     "end_time": "2024-08-21T23:20:20.862274Z",
     "start_time": "2024-08-21T23:20:20.851241Z"
    }
   },
   "outputs": [],
   "source": [
    "def get_data(url,year,season):\n",
    "    \"\"\"\n",
    "    Purpose of this function is to receive the following arguments:\n",
    "    \n",
    "    url : string, the target url.\n",
    "    year : string, the year that the Olympics took place\n",
    "    season : string, either Winter or Summer Olympics\n",
    "    \n",
    "    Afterwards, it web-scrapes the page with the given url and returns a dataframe with the desired metals by athlete,\n",
    "    for the given year and season .\n",
    "    \n",
    "    \"\"\"\n",
    "    \n",
    "    # Define url\n",
    "    url = url\n",
    "    headers = {\"user-agent\": \"Mozilla/5.0 (Windows NT 10.0; Win64; x64) AppleWebKit/537.36 (KHTML, like Gecko) Chrome/88.0.4324.182 Safari/537.36\"}\n",
    "    response = requests.get(url,headers=headers)\n",
    "    \n",
    "    soup = BeautifulSoup(response.text,'html.parser')\n",
    "    nr_of_pages = int(soup.find(\"ul\",{\"class\":\"pagination\"}).find_all(\"li\")[-2].text)\n",
    "    \n",
    "    ## Lets construct the pagination links\n",
    "    pagination_link_list = []\n",
    "    for i in range(1,nr_of_pages+1):\n",
    "        pagination_link_list.append(\"https://www.espn.com/olympics/{}/{}/medals/_/view/athletes/sort/total/page/{}\".format(season,year,i))\n",
    "     \n",
    "    # I have to iterate throught the list above,connect as target url, find the main table, store data in a list consisting of \n",
    "    # dictionaries. \n",
    "    # f.ex -> [{country:USA,athlete:name1,golds:1,silver:0,bronze:0,total:1},\n",
    "    #      {country:France,athlete:name1,golds:1,silver:2,bronze:0,total:3}]\n",
    "    medals_by_athlete_list = []\n",
    "    medals_by_athlete_dict = {}\n",
    "    for i in range(len(pagination_link_list)):\n",
    "        url = pagination_link_list[i]\n",
    "        headers = {\"user-agent\": \"Mozilla/5.0 (Windows NT 10.0; Win64; x64) AppleWebKit/537.36 (KHTML, like Gecko) Chrome/88.0.4324.182 Safari/537.36\"}\n",
    "        response = requests.get(url,headers=headers)\n",
    "        soup = BeautifulSoup(response.text,'html.parser')      \n",
    "        row_athlete_list = soup.find(\"table\",{\"class\":\"medals olympics has-team-logos\"}).find(\"tbody\").find_all(\"tr\")\n",
    "        for i in range(len(row_athlete_list)):\n",
    "            medals_by_athlete_dict[\"Athlete Name\"] = row_athlete_list[i].find_all(\"td\")[0].text\n",
    "            medals_by_athlete_dict[\"Country\"] = row_athlete_list[i].find(\"img\")[\"alt\"]\n",
    "            medals_by_athlete_dict[\"Gold_medals\"] = row_athlete_list[i].find_all(\"td\")[1].text\n",
    "            medals_by_athlete_dict[\"Silver_medals\"] = row_athlete_list[i].find_all(\"td\")[2].text\n",
    "            medals_by_athlete_dict[\"Bronze_medals\"] = row_athlete_list[i].find_all(\"td\")[3].text\n",
    "            medals_by_athlete_dict[\"Total_medals\"] = row_athlete_list[i].find_all(\"td\")[4].text\n",
    "            medals_by_athlete_list.append(medals_by_athlete_dict)\n",
    "            medals_by_athlete_dict = {}       \n",
    "    medals_by_athlete_df = pd.DataFrame(medals_by_athlete_list)\n",
    "    \n",
    "    medals_by_athlete_df[\"Year\"] = [year for i in range(len(medals_by_athlete_list))]\n",
    "    medals_by_athlete_df[\"Season\"] = [season for i in range(len(medals_by_athlete_list))]\n",
    "    return medals_by_athlete_df"
   ]
  },
  {
   "cell_type": "code",
   "execution_count": 23,
   "id": "e4c1f80d",
   "metadata": {
    "ExecuteTime": {
     "end_time": "2024-08-21T23:20:21.980280Z",
     "start_time": "2024-08-21T23:20:21.968545Z"
    }
   },
   "outputs": [],
   "source": [
    "target_urls = [\"https://www.espn.com/olympics/summer/2024/medals/_/view/athletes\",\n",
    "              \"https://www.espn.com/olympics/winter/2022/medals/_/view/athletes\",\n",
    "              \"https://www.espn.com/olympics/summer/2020/medals/_/view/athletes\",\n",
    "              \"https://www.espn.com/olympics/winter/2018/medals/_/view/athletes\",\n",
    "              \"https://www.espn.com/olympics/summer/2016/medals/_/view/athletes\",\n",
    "              \"https://www.espn.com/olympics/summer/2012/medals/_/view/athletes\"]"
   ]
  },
  {
   "cell_type": "code",
   "execution_count": 24,
   "id": "e98a1326",
   "metadata": {
    "ExecuteTime": {
     "end_time": "2024-08-21T23:22:47.520023Z",
     "start_time": "2024-08-21T23:20:25.148385Z"
    }
   },
   "outputs": [],
   "source": [
    "summer_2024 = get_data(target_urls[0],\"2024\",\"summer\")\n",
    "winter_2022 = get_data(target_urls[1],\"2022\",\"winter\")\n",
    "summer_2020 = get_data(target_urls[2],\"2020\",\"summer\")\n",
    "winter_2018 = get_data(target_urls[3],\"2018\",\"winter\")\n",
    "summer_2016 = get_data(target_urls[4],\"2016\",\"summer\")\n",
    "summer_2012 = get_data(target_urls[5],\"2012\",\"summer\")"
   ]
  },
  {
   "cell_type": "code",
   "execution_count": 25,
   "id": "1a0308f6",
   "metadata": {
    "ExecuteTime": {
     "end_time": "2024-08-21T23:24:17.262260Z",
     "start_time": "2024-08-21T23:24:17.255255Z"
    }
   },
   "outputs": [],
   "source": [
    "df_combined = pd.concat([summer_2024,winter_2022,summer_2020,winter_2018,summer_2016,summer_2012], ignore_index=True)"
   ]
  },
  {
   "cell_type": "code",
   "execution_count": 26,
   "id": "59f7ed0d",
   "metadata": {
    "ExecuteTime": {
     "end_time": "2024-08-21T23:24:22.662988Z",
     "start_time": "2024-08-21T23:24:22.641971Z"
    }
   },
   "outputs": [
    {
     "data": {
      "text/html": [
       "<div>\n",
       "<style scoped>\n",
       "    .dataframe tbody tr th:only-of-type {\n",
       "        vertical-align: middle;\n",
       "    }\n",
       "\n",
       "    .dataframe tbody tr th {\n",
       "        vertical-align: top;\n",
       "    }\n",
       "\n",
       "    .dataframe thead th {\n",
       "        text-align: right;\n",
       "    }\n",
       "</style>\n",
       "<table border=\"1\" class=\"dataframe\">\n",
       "  <thead>\n",
       "    <tr style=\"text-align: right;\">\n",
       "      <th></th>\n",
       "      <th>Athlete Name</th>\n",
       "      <th>Country</th>\n",
       "      <th>Gold_medals</th>\n",
       "      <th>Silver_medals</th>\n",
       "      <th>Bronze_medals</th>\n",
       "      <th>Total_medals</th>\n",
       "      <th>Year</th>\n",
       "      <th>Season</th>\n",
       "    </tr>\n",
       "  </thead>\n",
       "  <tbody>\n",
       "    <tr>\n",
       "      <th>0</th>\n",
       "      <td>Zhang Yufei</td>\n",
       "      <td>China</td>\n",
       "      <td>0</td>\n",
       "      <td>1</td>\n",
       "      <td>5</td>\n",
       "      <td>6</td>\n",
       "      <td>2024</td>\n",
       "      <td>summer</td>\n",
       "    </tr>\n",
       "    <tr>\n",
       "      <th>1</th>\n",
       "      <td>Léon Marchand</td>\n",
       "      <td>France</td>\n",
       "      <td>4</td>\n",
       "      <td>0</td>\n",
       "      <td>1</td>\n",
       "      <td>5</td>\n",
       "      <td>2024</td>\n",
       "      <td>summer</td>\n",
       "    </tr>\n",
       "    <tr>\n",
       "      <th>2</th>\n",
       "      <td>Torri Huske</td>\n",
       "      <td>United States</td>\n",
       "      <td>3</td>\n",
       "      <td>2</td>\n",
       "      <td>0</td>\n",
       "      <td>5</td>\n",
       "      <td>2024</td>\n",
       "      <td>summer</td>\n",
       "    </tr>\n",
       "    <tr>\n",
       "      <th>3</th>\n",
       "      <td>Mollie O'Callaghan</td>\n",
       "      <td>Australia</td>\n",
       "      <td>3</td>\n",
       "      <td>1</td>\n",
       "      <td>1</td>\n",
       "      <td>5</td>\n",
       "      <td>2024</td>\n",
       "      <td>summer</td>\n",
       "    </tr>\n",
       "    <tr>\n",
       "      <th>4</th>\n",
       "      <td>Regan Smith</td>\n",
       "      <td>United States</td>\n",
       "      <td>2</td>\n",
       "      <td>3</td>\n",
       "      <td>0</td>\n",
       "      <td>5</td>\n",
       "      <td>2024</td>\n",
       "      <td>summer</td>\n",
       "    </tr>\n",
       "    <tr>\n",
       "      <th>...</th>\n",
       "      <td>...</td>\n",
       "      <td>...</td>\n",
       "      <td>...</td>\n",
       "      <td>...</td>\n",
       "      <td>...</td>\n",
       "      <td>...</td>\n",
       "      <td>...</td>\n",
       "      <td>...</td>\n",
       "    </tr>\n",
       "    <tr>\n",
       "      <th>5666</th>\n",
       "      <td>Artur Aleksanyan</td>\n",
       "      <td>Armenia</td>\n",
       "      <td>0</td>\n",
       "      <td>0</td>\n",
       "      <td>1</td>\n",
       "      <td>1</td>\n",
       "      <td>2012</td>\n",
       "      <td>summer</td>\n",
       "    </tr>\n",
       "    <tr>\n",
       "      <th>5667</th>\n",
       "      <td>Hripsime Khurshudyan</td>\n",
       "      <td>Armenia</td>\n",
       "      <td>0</td>\n",
       "      <td>0</td>\n",
       "      <td>1</td>\n",
       "      <td>1</td>\n",
       "      <td>2012</td>\n",
       "      <td>summer</td>\n",
       "    </tr>\n",
       "    <tr>\n",
       "      <th>5668</th>\n",
       "      <td>Juan Martín Del Potro</td>\n",
       "      <td>Argentina</td>\n",
       "      <td>0</td>\n",
       "      <td>0</td>\n",
       "      <td>1</td>\n",
       "      <td>1</td>\n",
       "      <td>2012</td>\n",
       "      <td>summer</td>\n",
       "    </tr>\n",
       "    <tr>\n",
       "      <th>5669</th>\n",
       "      <td>Lucas Calabrese</td>\n",
       "      <td>Argentina</td>\n",
       "      <td>0</td>\n",
       "      <td>0</td>\n",
       "      <td>1</td>\n",
       "      <td>1</td>\n",
       "      <td>2012</td>\n",
       "      <td>summer</td>\n",
       "    </tr>\n",
       "    <tr>\n",
       "      <th>5670</th>\n",
       "      <td>Juan De La Fuente</td>\n",
       "      <td>Argentina</td>\n",
       "      <td>0</td>\n",
       "      <td>0</td>\n",
       "      <td>1</td>\n",
       "      <td>1</td>\n",
       "      <td>2012</td>\n",
       "      <td>summer</td>\n",
       "    </tr>\n",
       "  </tbody>\n",
       "</table>\n",
       "<p>5671 rows × 8 columns</p>\n",
       "</div>"
      ],
      "text/plain": [
       "               Athlete Name        Country Gold_medals Silver_medals  \\\n",
       "0               Zhang Yufei          China           0             1   \n",
       "1             Léon Marchand         France           4             0   \n",
       "2               Torri Huske  United States           3             2   \n",
       "3        Mollie O'Callaghan      Australia           3             1   \n",
       "4               Regan Smith  United States           2             3   \n",
       "...                     ...            ...         ...           ...   \n",
       "5666       Artur Aleksanyan        Armenia           0             0   \n",
       "5667   Hripsime Khurshudyan        Armenia           0             0   \n",
       "5668  Juan Martín Del Potro      Argentina           0             0   \n",
       "5669        Lucas Calabrese      Argentina           0             0   \n",
       "5670      Juan De La Fuente      Argentina           0             0   \n",
       "\n",
       "     Bronze_medals Total_medals  Year  Season  \n",
       "0                5            6  2024  summer  \n",
       "1                1            5  2024  summer  \n",
       "2                0            5  2024  summer  \n",
       "3                1            5  2024  summer  \n",
       "4                0            5  2024  summer  \n",
       "...            ...          ...   ...     ...  \n",
       "5666             1            1  2012  summer  \n",
       "5667             1            1  2012  summer  \n",
       "5668             1            1  2012  summer  \n",
       "5669             1            1  2012  summer  \n",
       "5670             1            1  2012  summer  \n",
       "\n",
       "[5671 rows x 8 columns]"
      ]
     },
     "execution_count": 26,
     "metadata": {},
     "output_type": "execute_result"
    }
   ],
   "source": [
    "df_combined"
   ]
  },
  {
   "cell_type": "code",
   "execution_count": 27,
   "id": "5c36f237",
   "metadata": {
    "ExecuteTime": {
     "end_time": "2024-08-21T23:25:02.185603Z",
     "start_time": "2024-08-21T23:25:02.155802Z"
    }
   },
   "outputs": [],
   "source": [
    "df_combined.to_csv('medals_by_athlete.csv', index=False)"
   ]
  }
 ],
 "metadata": {
  "kernelspec": {
   "display_name": "Python 3 (ipykernel)",
   "language": "python",
   "name": "python3"
  },
  "language_info": {
   "codemirror_mode": {
    "name": "ipython",
    "version": 3
   },
   "file_extension": ".py",
   "mimetype": "text/x-python",
   "name": "python",
   "nbconvert_exporter": "python",
   "pygments_lexer": "ipython3",
   "version": "3.9.7"
  },
  "varInspector": {
   "cols": {
    "lenName": 16,
    "lenType": 16,
    "lenVar": 40
   },
   "kernels_config": {
    "python": {
     "delete_cmd_postfix": "",
     "delete_cmd_prefix": "del ",
     "library": "var_list.py",
     "varRefreshCmd": "print(var_dic_list())"
    },
    "r": {
     "delete_cmd_postfix": ") ",
     "delete_cmd_prefix": "rm(",
     "library": "var_list.r",
     "varRefreshCmd": "cat(var_dic_list()) "
    }
   },
   "types_to_exclude": [
    "module",
    "function",
    "builtin_function_or_method",
    "instance",
    "_Feature"
   ],
   "window_display": false
  }
 },
 "nbformat": 4,
 "nbformat_minor": 5
}
