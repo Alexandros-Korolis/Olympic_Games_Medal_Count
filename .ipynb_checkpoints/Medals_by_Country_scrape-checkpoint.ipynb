{
 "cells": [
  {
   "cell_type": "code",
   "execution_count": 36,
   "id": "a2b3ecb7",
   "metadata": {
    "ExecuteTime": {
     "end_time": "2024-08-21T23:19:35.573269Z",
     "start_time": "2024-08-21T23:19:35.566267Z"
    }
   },
   "outputs": [],
   "source": [
    "import numpy as np\n",
    "import pandas as pd\n",
    "import matplotlib.pyplot as plt\n",
    "import seaborn as sns\n",
    "from bs4 import BeautifulSoup\n",
    "import requests \n",
    "from tqdm import tqdm"
   ]
  },
  {
   "cell_type": "markdown",
   "id": "abd6dfd1",
   "metadata": {
    "ExecuteTime": {
     "end_time": "2024-08-21T19:57:38.301526Z",
     "start_time": "2024-08-21T19:57:38.285388Z"
    }
   },
   "source": [
    "# Web scrape medals by Countries"
   ]
  },
  {
   "cell_type": "code",
   "execution_count": 37,
   "id": "8b0e8b0a",
   "metadata": {
    "ExecuteTime": {
     "end_time": "2024-08-21T23:19:37.090332Z",
     "start_time": "2024-08-21T23:19:37.080330Z"
    }
   },
   "outputs": [],
   "source": [
    "def get_data(url,year,season):\n",
    "    \"\"\"\n",
    "    Purpose of this function is to receive the following arguments:\n",
    "    \n",
    "    url : string, the target url.\n",
    "    year : string, the year that the Olympics took place\n",
    "    season : string, either Winter or Summer Olympics\n",
    "    \n",
    "    Afterwards, it web-scrapes the page with the given url and returns a dataframe with the desired metals by country.\n",
    "    \n",
    "    \"\"\"\n",
    "    \n",
    "    # Lets define the target url.\n",
    "    url = url\n",
    "    headers = {\"user-agent\": \"Mozilla/5.0 (Windows NT 10.0; Win64; x64) AppleWebKit/537.36 (KHTML, like Gecko) Chrome/88.0.4324.182 Safari/537.36\"}\n",
    "    response = requests.get(url,headers=headers)\n",
    "    soup = BeautifulSoup(response.text,'html.parser')\n",
    "    \n",
    "    # Here I have each row of the main table f.ex -> USA | 10 | 5 | 1 | 16\n",
    "    country_rows = soup.find(\"table\",{\"class\":\"medals olympics has-team-logos\"}).find(\"tbody\").find_all(\"tr\")\n",
    "    \n",
    "    # The plan is to create a list of dictionaries f.ex -> [{country:USA,Gold:10,Silver:5,Bronze:1,Total:16},\n",
    "    #                                                       {country:India,Gold:5,Silver:3,Bronze:0,Total:8}]\n",
    "    list_medals_by_country = []\n",
    "    nr_medals_by_country = {}\n",
    "    for i in range(len(country_rows)):\n",
    "        nr_medals_by_country[\"Country\"] = country_rows[i].find_all(\"td\")[0].text\n",
    "        nr_medals_by_country[\"Gold_medals\"] = country_rows[i].find_all(\"td\")[1].text\n",
    "        nr_medals_by_country[\"Silver_medals\"] = country_rows[i].find_all(\"td\")[2].text\n",
    "        nr_medals_by_country[\"Bronze_medals\"] = country_rows[i].find_all(\"td\")[3].text\n",
    "        nr_medals_by_country[\"Total_medals\"] = country_rows[i].find_all(\"td\")[4].text\n",
    "        list_medals_by_country.append(nr_medals_by_country)\n",
    "        nr_medals_by_country = {}\n",
    "        \n",
    "    # Create Dataframe\n",
    "    medals_by_country_df = pd.DataFrame(list_medals_by_country)\n",
    "    \n",
    "    # Add Year and Season columns \n",
    "    medals_by_country_df[\"Year\"] = [year for i in range(len(list_medals_by_country))]\n",
    "    medals_by_country_df[\"Season\"] = [season for i in range(len(list_medals_by_country))]\n",
    "    return medals_by_country_df"
   ]
  },
  {
   "cell_type": "code",
   "execution_count": 38,
   "id": "ab93d9c3",
   "metadata": {
    "ExecuteTime": {
     "end_time": "2024-08-21T23:19:40.111907Z",
     "start_time": "2024-08-21T23:19:40.102923Z"
    }
   },
   "outputs": [],
   "source": [
    "target_urls = [\"https://www.espn.com/olympics/summer/2024/medals\",\"https://www.espn.com/olympics/winter/2022/medals\",\"https://www.espn.com/olympics/summer/2020/medals\",\"https://www.espn.com/olympics/winter/2018/medals\",\"https://www.espn.com/olympics/summer/2016/medals\",\"https://www.espn.com/olympics/summer/2012/medals\"]"
   ]
  },
  {
   "cell_type": "code",
   "execution_count": 39,
   "id": "4c90db1f",
   "metadata": {
    "ExecuteTime": {
     "end_time": "2024-08-21T23:19:45.094607Z",
     "start_time": "2024-08-21T23:19:41.318595Z"
    }
   },
   "outputs": [],
   "source": [
    "summer_2024 = get_data(target_urls[0],\"2024\",\"summer\")\n",
    "winter_2022 = get_data(target_urls[1],\"2022\",\"winter\")\n",
    "summer_2020 = get_data(target_urls[2],\"2020\",\"summer\")\n",
    "winter_2018 = get_data(target_urls[3],\"2018\",\"winter\")\n",
    "summer_2016 = get_data(target_urls[4],\"2016\",\"summer\")\n",
    "summer_2012 = get_data(target_urls[5],\"2012\",\"summer\")"
   ]
  },
  {
   "cell_type": "code",
   "execution_count": 40,
   "id": "d7a232c6",
   "metadata": {
    "ExecuteTime": {
     "end_time": "2024-08-21T23:19:46.656492Z",
     "start_time": "2024-08-21T23:19:46.639893Z"
    }
   },
   "outputs": [],
   "source": [
    "df_combined = pd.concat([summer_2024,winter_2022,summer_2020,winter_2018,summer_2016,summer_2012], ignore_index=True)"
   ]
  },
  {
   "cell_type": "code",
   "execution_count": 41,
   "id": "3ba75973",
   "metadata": {
    "ExecuteTime": {
     "end_time": "2024-08-21T23:19:47.357409Z",
     "start_time": "2024-08-21T23:19:47.342405Z"
    }
   },
   "outputs": [
    {
     "data": {
      "text/html": [
       "<div>\n",
       "<style scoped>\n",
       "    .dataframe tbody tr th:only-of-type {\n",
       "        vertical-align: middle;\n",
       "    }\n",
       "\n",
       "    .dataframe tbody tr th {\n",
       "        vertical-align: top;\n",
       "    }\n",
       "\n",
       "    .dataframe thead th {\n",
       "        text-align: right;\n",
       "    }\n",
       "</style>\n",
       "<table border=\"1\" class=\"dataframe\">\n",
       "  <thead>\n",
       "    <tr style=\"text-align: right;\">\n",
       "      <th></th>\n",
       "      <th>Country</th>\n",
       "      <th>Gold_medals</th>\n",
       "      <th>Silver_medals</th>\n",
       "      <th>Bronze_medals</th>\n",
       "      <th>Total_medals</th>\n",
       "      <th>Year</th>\n",
       "      <th>Season</th>\n",
       "    </tr>\n",
       "  </thead>\n",
       "  <tbody>\n",
       "    <tr>\n",
       "      <th>0</th>\n",
       "      <td>USAUnited States</td>\n",
       "      <td>40</td>\n",
       "      <td>44</td>\n",
       "      <td>42</td>\n",
       "      <td>126</td>\n",
       "      <td>2024</td>\n",
       "      <td>summer</td>\n",
       "    </tr>\n",
       "    <tr>\n",
       "      <th>1</th>\n",
       "      <td>CHNChina</td>\n",
       "      <td>40</td>\n",
       "      <td>27</td>\n",
       "      <td>24</td>\n",
       "      <td>91</td>\n",
       "      <td>2024</td>\n",
       "      <td>summer</td>\n",
       "    </tr>\n",
       "    <tr>\n",
       "      <th>2</th>\n",
       "      <td>GBRGreat Britain</td>\n",
       "      <td>14</td>\n",
       "      <td>22</td>\n",
       "      <td>29</td>\n",
       "      <td>65</td>\n",
       "      <td>2024</td>\n",
       "      <td>summer</td>\n",
       "    </tr>\n",
       "    <tr>\n",
       "      <th>3</th>\n",
       "      <td>FRAFrance</td>\n",
       "      <td>16</td>\n",
       "      <td>26</td>\n",
       "      <td>22</td>\n",
       "      <td>64</td>\n",
       "      <td>2024</td>\n",
       "      <td>summer</td>\n",
       "    </tr>\n",
       "    <tr>\n",
       "      <th>4</th>\n",
       "      <td>AUSAustralia</td>\n",
       "      <td>18</td>\n",
       "      <td>19</td>\n",
       "      <td>16</td>\n",
       "      <td>53</td>\n",
       "      <td>2024</td>\n",
       "      <td>summer</td>\n",
       "    </tr>\n",
       "    <tr>\n",
       "      <th>...</th>\n",
       "      <td>...</td>\n",
       "      <td>...</td>\n",
       "      <td>...</td>\n",
       "      <td>...</td>\n",
       "      <td>...</td>\n",
       "      <td>...</td>\n",
       "      <td>...</td>\n",
       "    </tr>\n",
       "    <tr>\n",
       "      <th>412</th>\n",
       "      <td>KSASaudi Arabia</td>\n",
       "      <td>0</td>\n",
       "      <td>0</td>\n",
       "      <td>1</td>\n",
       "      <td>1</td>\n",
       "      <td>2012</td>\n",
       "      <td>summer</td>\n",
       "    </tr>\n",
       "    <tr>\n",
       "      <th>413</th>\n",
       "      <td>AFGAfghanistan</td>\n",
       "      <td>0</td>\n",
       "      <td>0</td>\n",
       "      <td>1</td>\n",
       "      <td>1</td>\n",
       "      <td>2012</td>\n",
       "      <td>summer</td>\n",
       "    </tr>\n",
       "    <tr>\n",
       "      <th>414</th>\n",
       "      <td>TJKTajikistan</td>\n",
       "      <td>0</td>\n",
       "      <td>0</td>\n",
       "      <td>1</td>\n",
       "      <td>1</td>\n",
       "      <td>2012</td>\n",
       "      <td>summer</td>\n",
       "    </tr>\n",
       "    <tr>\n",
       "      <th>415</th>\n",
       "      <td>KUWKuwait</td>\n",
       "      <td>0</td>\n",
       "      <td>0</td>\n",
       "      <td>1</td>\n",
       "      <td>1</td>\n",
       "      <td>2012</td>\n",
       "      <td>summer</td>\n",
       "    </tr>\n",
       "    <tr>\n",
       "      <th>416</th>\n",
       "      <td>HKGHong Kong</td>\n",
       "      <td>0</td>\n",
       "      <td>0</td>\n",
       "      <td>1</td>\n",
       "      <td>1</td>\n",
       "      <td>2012</td>\n",
       "      <td>summer</td>\n",
       "    </tr>\n",
       "  </tbody>\n",
       "</table>\n",
       "<p>417 rows × 7 columns</p>\n",
       "</div>"
      ],
      "text/plain": [
       "              Country Gold_medals Silver_medals Bronze_medals Total_medals  \\\n",
       "0    USAUnited States          40            44            42          126   \n",
       "1            CHNChina          40            27            24           91   \n",
       "2    GBRGreat Britain          14            22            29           65   \n",
       "3           FRAFrance          16            26            22           64   \n",
       "4        AUSAustralia          18            19            16           53   \n",
       "..                ...         ...           ...           ...          ...   \n",
       "412   KSASaudi Arabia           0             0             1            1   \n",
       "413    AFGAfghanistan           0             0             1            1   \n",
       "414     TJKTajikistan           0             0             1            1   \n",
       "415         KUWKuwait           0             0             1            1   \n",
       "416      HKGHong Kong           0             0             1            1   \n",
       "\n",
       "     Year  Season  \n",
       "0    2024  summer  \n",
       "1    2024  summer  \n",
       "2    2024  summer  \n",
       "3    2024  summer  \n",
       "4    2024  summer  \n",
       "..    ...     ...  \n",
       "412  2012  summer  \n",
       "413  2012  summer  \n",
       "414  2012  summer  \n",
       "415  2012  summer  \n",
       "416  2012  summer  \n",
       "\n",
       "[417 rows x 7 columns]"
      ]
     },
     "execution_count": 41,
     "metadata": {},
     "output_type": "execute_result"
    }
   ],
   "source": [
    "df_combined"
   ]
  },
  {
   "cell_type": "code",
   "execution_count": 42,
   "id": "0257485b",
   "metadata": {
    "ExecuteTime": {
     "end_time": "2024-08-21T23:19:50.332121Z",
     "start_time": "2024-08-21T23:19:50.316010Z"
    }
   },
   "outputs": [],
   "source": [
    "df_combined.to_csv('medals_by_country.csv', index=False)"
   ]
  }
 ],
 "metadata": {
  "kernelspec": {
   "display_name": "Python 3 (ipykernel)",
   "language": "python",
   "name": "python3"
  },
  "language_info": {
   "codemirror_mode": {
    "name": "ipython",
    "version": 3
   },
   "file_extension": ".py",
   "mimetype": "text/x-python",
   "name": "python",
   "nbconvert_exporter": "python",
   "pygments_lexer": "ipython3",
   "version": "3.9.7"
  },
  "varInspector": {
   "cols": {
    "lenName": 16,
    "lenType": 16,
    "lenVar": 40
   },
   "kernels_config": {
    "python": {
     "delete_cmd_postfix": "",
     "delete_cmd_prefix": "del ",
     "library": "var_list.py",
     "varRefreshCmd": "print(var_dic_list())"
    },
    "r": {
     "delete_cmd_postfix": ") ",
     "delete_cmd_prefix": "rm(",
     "library": "var_list.r",
     "varRefreshCmd": "cat(var_dic_list()) "
    }
   },
   "types_to_exclude": [
    "module",
    "function",
    "builtin_function_or_method",
    "instance",
    "_Feature"
   ],
   "window_display": false
  }
 },
 "nbformat": 4,
 "nbformat_minor": 5
}
